{
 "cells": [
  {
   "cell_type": "markdown",
   "id": "70944728-95bc-4698-91c3-aab414dc1be6",
   "metadata": {},
   "source": [
    "#### Q1. Write a Python function that takes in two arrays of data and calculates the F-value for a variance ratio test. The function should return the F-value and the corresponding p-value for the test.\n",
    "\n",
    "#### Q2. Given a significance level of 0.05 and the degrees of freedom for the numerator and denominator of an F-distribution, write a Python function that returns the critical F-value for a two-tailed test.\n",
    "\n",
    "#### Q3. Write a Python program that generates random samples from two normal distributions with known variances and uses an F-test to determine if the variances are equal. The program should output the F-value, degrees of freedom, and p-value for the test.\n",
    "\n",
    "#### Q4.The variances of two populations are known to be 10 and 15. A sample of 12 observations is taken from each population. Conduct an F-test at the 5% significance level to determine if the variances are significantly different.\n",
    "\n",
    "#### Q5. A manufacturer claims that the variance of the diameter of a certain product is 0.005. A sample of 25 products is taken, and the sample variance is found to be 0.006. Conduct an F-test at the 1% significance level to determine if the claim is justified.\n",
    "\n",
    "#### Q6. Write a Python function that takes in the degrees of freedom for the numerator and denominator of an F-distribution and calculates the mean and variance of the distribution. The function should return the mean and variance as a tuple.\n",
    "\n",
    "#### Q7. A random sample of 10 measurements is taken from a normal population with unknown variance. The sample variance is found to be 25. Another random sample of 15 measurements is taken from another normal population with unknown variance, and the sample variance is found to be 20. Conduct an F-test at the 10% significance level to determine if the variances are significantly different.\n",
    "\n",
    "#### Q8. The following data represent the waiting times in minutes at two different restaurants on a Saturday night: Restaurant A: 24, 25, 28, 23, 22, 20, 27; Restaurant B: 31, 33, 35, 30, 32, 36. Conduct an F-test at the 5% significance level to determine if the variances are significantly different.\n",
    "\n",
    "#### Q9. The following data represent the test scores of two groups of students: Group A: 80, 85, 90, 92, 87, 83; Group B: 75, 78, 82, 79, 81, 84. Conduct an F-test at the 1% significance level to determine if the variances are significantly different."
   ]
  },
  {
   "cell_type": "markdown",
   "id": "66a63805-70b3-4e2b-b85b-a05ea7f548e4",
   "metadata": {},
   "source": [
    "## Answers"
   ]
  },
  {
   "cell_type": "markdown",
   "id": "f88a016a-780c-4808-8d1d-4498b5ee3dd2",
   "metadata": {},
   "source": [
    "Q1. Write a Python function that takes in two arrays of data and calculates the F-value for a variance ratio test. The function should return the F-value and the corresponding p-value for the test."
   ]
  },
  {
   "cell_type": "code",
   "execution_count": 11,
   "id": "7d937f37-9956-4f82-bdf7-e184b8db24d1",
   "metadata": {},
   "outputs": [
    {
     "name": "stdout",
     "output_type": "stream",
     "text": [
      "F-value: 1.507636387559415\n",
      "p-value: 0.25439890476505234\n"
     ]
    }
   ],
   "source": [
    "import numpy as np\n",
    "from scipy.stats import f_oneway\n",
    "\n",
    "def variance_ratio_test(arr1, arr2):\n",
    "   \n",
    "    try:\n",
    "        # Convert input arrays to numpy arrays for consistent handling\n",
    "        arr1 = np.asarray(arr1)\n",
    "        arr2 = np.asarray(arr2)\n",
    "\n",
    "        # Calculate the F-value and p-value using scipy.stats.f_oneway\n",
    "        F_value, p_value= f_oneway(arr1, arr2)\n",
    "\n",
    "        return F_value, p_value\n",
    "\n",
    "    except Exception as e:\n",
    "        raise ValueError(\"Error in variance_ratio_test: \" + str(e))\n",
    "\n",
    "\n",
    "data1 = [100, 200, 300, 434, 598]\n",
    "data2 = [238, 398, 484, 589, 600]\n",
    "F, p= variance_ratio_test(data1, data2)\n",
    "print(\"F-value:\", F)\n",
    "print(\"p-value:\", p)\n"
   ]
  },
  {
   "cell_type": "markdown",
   "id": "e502a95f-db7b-4e5a-acc2-27e56dcf641f",
   "metadata": {},
   "source": [
    "### Q2. Given a significance level of 0.05 and the degrees of freedom for the numerator and denominator of an F-distribution, write a Python function that returns the critical F-value for a two-tailed test.\n"
   ]
  },
  {
   "cell_type": "code",
   "execution_count": 9,
   "id": "579addd3-c2ac-43a9-9474-99368b522f96",
   "metadata": {},
   "outputs": [
    {
     "name": "stdout",
     "output_type": "stream",
     "text": [
      "Critical F-value: 4.2750715963366135\n"
     ]
    }
   ],
   "source": [
    "from scipy.stats import f\n",
    "\n",
    "def critical_f_value(alpha, dfn, dfd):\n",
    "    try:\n",
    "        # Calculate the critical F-value using scipy.stats.f.ppf\n",
    "        critical_f = f.ppf(q=1 - alpha/2, dfn=dfn, dfd=dfd)\n",
    "\n",
    "        return critical_f\n",
    "\n",
    "    except Exception as e:\n",
    "        raise ValueError(\"Error in critical_f_value: \" + str(e))\n",
    "\n",
    "\n",
    "significance_level = 0.05\n",
    "degrees_of_freedom_numerator = 4\n",
    "degrees_of_freedom_denominator = 11\n",
    "crit_f = critical_f_value(significance_level, degrees_of_freedom_numerator, degrees_of_freedom_denominator)\n",
    "print(\"Critical F-value:\", crit_f)\n"
   ]
  },
  {
   "cell_type": "markdown",
   "id": "c3014a67-2026-4a01-8eb5-d11787cd5e96",
   "metadata": {},
   "source": [
    "### Q3. Write a Python program that generates random samples from two normal distributions with known variances and uses an F-test to determine if the variances are equal. The program should output the F-value, degrees of freedom, and p-value for the test."
   ]
  },
  {
   "cell_type": "code",
   "execution_count": 12,
   "id": "0cdcb148-d791-4203-b076-7c88997a0ddd",
   "metadata": {},
   "outputs": [
    {
     "name": "stdout",
     "output_type": "stream",
     "text": [
      "F-value: 0.00036964174770004005\n",
      "Degrees of Freedom (numerator): 49\n",
      "Degrees of Freedom (denominator): 49\n",
      "p-value: 0.9846998507877065\n"
     ]
    }
   ],
   "source": [
    "import numpy as np\n",
    "from scipy.stats import f_oneway\n",
    "\n",
    "def generate_random_samples(sample_size, variance1, variance2):\n",
    "    try:\n",
    "        # Generate random samples from two normal distributions\n",
    "        sample1 = np.random.normal(loc=0, scale=np.sqrt(variance1), size=sample_size)\n",
    "        sample2 = np.random.normal(loc=0, scale=np.sqrt(variance2), size=sample_size)\n",
    "\n",
    "        return sample1, sample2\n",
    "\n",
    "    except Exception as e:\n",
    "        raise ValueError(\"Error in generate_random_samples: \" + str(e))\n",
    "\n",
    "\n",
    "def variance_ratio_test(sample1, sample2):\n",
    "    try:\n",
    "        # Calculate the F-value, degrees of freedom, and p-value using scipy.stats.f_oneway\n",
    "        F_value, p_value = f_oneway(sample1, sample2)\n",
    "        dfn = len(sample1) - 1\n",
    "        dfd = len(sample2) - 1\n",
    "\n",
    "        return F_value, dfn, dfd, p_value\n",
    "\n",
    "    except Exception as e:\n",
    "        raise ValueError(\"Error in variance_ratio_test: \" + str(e))\n",
    "\n",
    "\n",
    "if __name__ == \"__main__\":\n",
    "    # Set the parameters for generating random samples\n",
    "    sample_size = 50\n",
    "    variance1 = 9  # Known variance for the first normal distribution\n",
    "    variance2 = 16  # Known variance for the second normal distribution\n",
    "\n",
    "    # Generate random samples from two normal distributions with known variances\n",
    "    sample1, sample2 = generate_random_samples(sample_size, variance1, variance2)\n",
    "\n",
    "    # Perform the F-test to compare the variances of the two samples\n",
    "    F, dfn, dfd, p = variance_ratio_test(sample1, sample2)\n",
    "\n",
    "    # Output the results\n",
    "    print(\"F-value:\", F)\n",
    "    print(\"Degrees of Freedom (numerator):\", dfn)\n",
    "    print(\"Degrees of Freedom (denominator):\", dfd)\n",
    "    print(\"p-value:\", p)\n"
   ]
  },
  {
   "cell_type": "markdown",
   "id": "a319e82a-a047-4b1d-939a-503b0d9233a8",
   "metadata": {},
   "source": [
    "### Q4.The variances of two populations are known to be 10 and 15. A sample of 12 observations is taken from each population. Conduct an F-test at the 5% significance level to determine if the variances are significantly different.\n"
   ]
  },
  {
   "cell_type": "markdown",
   "id": "2c9f7615-6ed1-4ee3-a978-aab6f3f3f55d",
   "metadata": {},
   "source": [
    "#### Null Hypothesis (H0): The variances of the two populations are equal (σ1^2 = σ2^2).\n",
    "#### Alternative Hypothesis (H1): The variances of the two populations are not equal (σ1^2 ≠ σ2^2)"
   ]
  },
  {
   "cell_type": "code",
   "execution_count": 18,
   "id": "a0c31765-7ff2-44a0-92c2-fbc746a29ab8",
   "metadata": {},
   "outputs": [
    {
     "name": "stdout",
     "output_type": "stream",
     "text": [
      "Fail to Reject The Null Hypothesis\n"
     ]
    }
   ],
   "source": [
    "import scipy.stats as st\n",
    "def calculate_f_test(sample_size_1,sample_size_2,variance_1,variance_2,significance_level):\n",
    "    f_test=variance_1/variance_2\n",
    "    dfn=sample_size_1-1\n",
    "    dfd=sample_size_2-1\n",
    "    critical_value=st.f.ppf(1-significance_level,dfn,dfd)\n",
    "    if f_test > critical_value:\n",
    "        print(\"Reject The Null Hypothesis \")\n",
    "    else:\n",
    "        print(\"Fail to Reject The Null Hypothesis\")\n",
    "\n",
    "sample_size_1=12\n",
    "sample_size_2=12\n",
    "variance_1=10\n",
    "variance_2=15\n",
    "significance_level=0.05\n",
    "calculate_f_test(sample_size_1,sample_size_2,variance_1,variance_2,significance_level)\n"
   ]
  },
  {
   "cell_type": "markdown",
   "id": "a2335528-fde5-4a74-9475-a3a73be94c1a",
   "metadata": {},
   "source": [
    "### Q5. A manufacturer claims that the variance of the diameter of a certain product is 0.005. A sample of 25 products is taken, and the sample variance is found to be 0.006. Conduct an F-test at the 1% significance level to determine if the claim is justified."
   ]
  },
  {
   "cell_type": "markdown",
   "id": "94e07233-5027-4b98-8786-af747a9d9cad",
   "metadata": {},
   "source": [
    "#### Null Hypothesis (H0): The population variance is equal to the claimed value (σ^2 = 0.005).\n",
    "#### Alternative Hypothesis (H1): The population variance is not equal to the claimed value (σ^2 ≠ 0.005)."
   ]
  },
  {
   "cell_type": "code",
   "execution_count": 51,
   "id": "4e87b926-222e-42d5-80bd-c3f4e0fce3a8",
   "metadata": {},
   "outputs": [
    {
     "name": "stdout",
     "output_type": "stream",
     "text": [
      "Fail to reject the null hypothesis: The claim is justified.\n"
     ]
    }
   ],
   "source": [
    "from scipy.stats import f\n",
    "\n",
    "def f_test(sample_size, sample_variance, claimed_variance, significance_level):\n",
    "    # Calculate the degrees of freedom for the F-distribution\n",
    "    dfn = sample_size - 1\n",
    "\n",
    "    # Calculate the F-statistic\n",
    "    f_statistic = sample_variance / claimed_variance\n",
    "\n",
    "    # Calculate the critical F-value\n",
    "    critical_f = f.ppf(1 - significance_level, dfn, dfn)\n",
    "\n",
    "    # Conduct the F-test\n",
    "    if f_statistic > critical_f or f_statistic < 1/critical_f:\n",
    "        print(\"Reject the null hypothesis: The claim is not justified.\")\n",
    "    else:\n",
    "        print(\"Fail to reject the null hypothesis: The claim is justified.\")\n",
    "\n",
    "# Given data\n",
    "sample_size = 25\n",
    "sample_variance = 0.006\n",
    "claimed_variance = 0.005\n",
    "significance_level = 0.01\n",
    "\n",
    "# Conduct the F-test\n",
    "f_test(sample_size, sample_variance, claimed_variance, significance_level)\n"
   ]
  },
  {
   "cell_type": "markdown",
   "id": "9903ac45-7565-42ed-bb87-7143b69a4333",
   "metadata": {},
   "source": [
    "### Q6. Write a Python function that takes in the degrees of freedom for the numerator and denominator of an F-distribution and calculates the mean and variance of the distribution. The function should return the mean and variance as a tuple.\n"
   ]
  },
  {
   "cell_type": "code",
   "execution_count": 23,
   "id": "26848c86-3876-4505-8727-60acd23ed97f",
   "metadata": {},
   "outputs": [
    {
     "data": {
      "text/plain": [
       "(178.91586172839504,\n",
       " 208.23140495867773,\n",
       " 32.26777777777777,\n",
       " 25.363636363636363,\n",
       " 3.0203829470213743)"
      ]
     },
     "execution_count": 23,
     "metadata": {},
     "output_type": "execute_result"
    }
   ],
   "source": [
    "import scipy.stats as st\n",
    "import numpy as np\n",
    "def F_distribution(dfn,dfd,sample_size_1,sample_size_2,significance_level):\n",
    "    var_1=np.var(sample_size_1)\n",
    "    var_2=np.var(sample_size_2)\n",
    "    m_1=np.mean(sample_size_1)\n",
    "    m_2=np.mean(sample_size_2)\n",
    "    f_dist=st.f.ppf(1-significance_level,dfn,dfd)\n",
    "    return (var_1,var_2,m_1,m_2,f_dist)\n",
    "\n",
    "sample_size_1=[18,19,22,25,27,28.41,45,51,55]\n",
    "sample_size_2=[14,15,15,17,18,22,25,25,27,34,67]\n",
    "dfn=9\n",
    "dfd=10\n",
    "significance_level=0.05\n",
    "F_distribution(dfn,dfd,sample_size_1,sample_size_2,significance_level)"
   ]
  },
  {
   "cell_type": "code",
   "execution_count": 24,
   "id": "7cabad63-89c7-44ca-a856-3ee11adb4f61",
   "metadata": {},
   "outputs": [
    {
     "name": "stdout",
     "output_type": "stream",
     "text": [
      "Mean: 1.25\n",
      "Variance: 1.9097222222222223\n"
     ]
    }
   ],
   "source": [
    "def f_distribution_mean_variance(dfn, dfd):\n",
    "    try:\n",
    "        # Calculate the mean and variance of the F-distribution\n",
    "        if dfd > 2:\n",
    "            mean = dfd / (dfd - 2)\n",
    "            variance = (2 * dfd ** 2 * (dfn + dfd - 2)) / (dfn * (dfd - 2) ** 2 * (dfd - 4))\n",
    "        else:\n",
    "            raise ValueError(\"Degrees of freedom for the denominator must be greater than 2.\")\n",
    "\n",
    "        return mean, variance\n",
    "\n",
    "    except Exception as e:\n",
    "        raise ValueError(\"Error in f_distribution_mean_variance: \" + str(e))\n",
    "\n",
    "degrees_of_freedom_numerator = 3\n",
    "degrees_of_freedom_denominator = 10\n",
    "mean, variance = f_distribution_mean_variance(degrees_of_freedom_numerator, degrees_of_freedom_denominator)\n",
    "print(\"Mean:\", mean)\n",
    "print(\"Variance:\", variance)\n"
   ]
  },
  {
   "cell_type": "markdown",
   "id": "40d3e7d6-66ea-4dbf-91fa-0b9cf29908b4",
   "metadata": {},
   "source": [
    "### Q7. A random sample of 10 measurements is taken from a normal population with unknown variance. The sample variance is found to be 25. Another random sample of 15 measurements is taken from another normal population with unknown variance, and the sample variance is found to be 20. Conduct an F-test at the 10% significance level to determine if the variances are significantly different.\n"
   ]
  },
  {
   "cell_type": "markdown",
   "id": "e1e22b24-cba2-4525-b42d-5d008e5531f5",
   "metadata": {},
   "source": [
    "#### Null Hypothesis (H0): The variances of the two populations are equal (σ1^2 = σ2^2).\n",
    "\n",
    "#### Alternative Hypothesis (H1): The variances of the two populations are not equal (σ1^2 ≠ σ2^2)."
   ]
  },
  {
   "cell_type": "code",
   "execution_count": 47,
   "id": "3a0261e2-96c5-4ea5-9924-1bbbc198b515",
   "metadata": {},
   "outputs": [
    {
     "name": "stdout",
     "output_type": "stream",
     "text": [
      "Fail to reject the null hypothesis: Variances are not significantly different.\n"
     ]
    }
   ],
   "source": [
    "from scipy.stats import f\n",
    "\n",
    "def f_test(sample_size1, sample_size2, sample_variance1, sample_variance2, significance_level):\n",
    "    # Calculate the degrees of freedom for the F-distribution\n",
    "    dfn = sample_size1 - 1\n",
    "    dfd = sample_size2 - 1\n",
    "\n",
    "    # Calculate the F-statistic\n",
    "    f_statistic = sample_variance1 / sample_variance2\n",
    "\n",
    "    # Calculate the critical F-value\n",
    "    critical_f = f.ppf(1 - significance_level / 2, dfn, dfd)\n",
    "\n",
    "    # Conduct the F-test\n",
    "    if f_statistic > critical_f or f_statistic < 1/critical_f:\n",
    "        print(\"Reject the null hypothesis: Variances are significantly different.\")\n",
    "    else:\n",
    "        print(\"Fail to reject the null hypothesis: Variances are not significantly different.\")\n",
    "\n",
    "# Given data\n",
    "sample_size1 = 10\n",
    "sample_size2 = 15\n",
    "sample_variance1 = 25\n",
    "sample_variance2 = 20\n",
    "significance_level = 0.10\n",
    "\n",
    "# Conduct the F-test\n",
    "f_test(sample_size1, sample_size2, sample_variance1, sample_variance2, significance_level)\n"
   ]
  },
  {
   "cell_type": "code",
   "execution_count": null,
   "id": "c5cf9045-3ef9-41b4-8a8f-28668fcdc451",
   "metadata": {},
   "outputs": [],
   "source": []
  },
  {
   "cell_type": "markdown",
   "id": "0db29449-c0e4-461c-b887-7a6d4f95a967",
   "metadata": {},
   "source": [
    "### Q8. The following data represent the waiting times in minutes at two different restaurants on a Saturday night: Restaurant A: 24, 25, 28, 23, 22, 20, 27; Restaurant B: 31, 33, 35, 30, 32, 36. Conduct an F-test at the 5% significance level to determine if the variances are significantly different.\n"
   ]
  },
  {
   "cell_type": "markdown",
   "id": "cf829a09-9911-4345-a9ee-411e5b3ba8a8",
   "metadata": {},
   "source": [
    "#### Null Hypothesis (H0): The variances of the two populations are equal (σ1^2 = σ2^2).\n",
    "\n",
    "#### Alternative Hypothesis (H1): The variances of the two populations are not equal (σ1^2 ≠ σ2^2)."
   ]
  },
  {
   "cell_type": "code",
   "execution_count": 33,
   "id": "e704df1c-5036-4230-9c98-8693ac0473ad",
   "metadata": {},
   "outputs": [],
   "source": [
    "Restaurant_A= [24, 25, 28, 23, 22, 20, 27]\n",
    "Restaurant_B=[31, 33, 35, 30, 32, 36]"
   ]
  },
  {
   "cell_type": "code",
   "execution_count": 42,
   "id": "6f874ab2-062c-43cd-9f4b-8ff7e00a59a9",
   "metadata": {},
   "outputs": [
    {
     "data": {
      "text/plain": [
       "1.496767651159843"
      ]
     },
     "execution_count": 42,
     "metadata": {},
     "output_type": "execute_result"
    }
   ],
   "source": [
    "import numpy as np\n",
    "import scipy.stats as st\n",
    "f_t=np.var(Restaurant_A)/np.var(Restaurant_B)\n",
    "f_t"
   ]
  },
  {
   "cell_type": "code",
   "execution_count": 43,
   "id": "b4dda43f-cb12-49ef-bca3-625b7ab04975",
   "metadata": {},
   "outputs": [],
   "source": [
    "df1=len(Restaurant_A)-1\n",
    "df2=len(Restaurant_B)-1\n",
    "signifance_value=0.05"
   ]
  },
  {
   "cell_type": "code",
   "execution_count": 44,
   "id": "887adefd-0cd4-476b-8ab8-d6c6d627fa56",
   "metadata": {},
   "outputs": [
    {
     "data": {
      "text/plain": [
       "4.950288068694318"
      ]
     },
     "execution_count": 44,
     "metadata": {},
     "output_type": "execute_result"
    }
   ],
   "source": [
    "c_value=st.f.ppf(q=1-signifance_value,dfn=df1,dfd=df2)\n",
    "c_value"
   ]
  },
  {
   "cell_type": "code",
   "execution_count": 45,
   "id": "55875b9b-ab0c-4246-91ea-772970bd32b1",
   "metadata": {},
   "outputs": [
    {
     "name": "stdout",
     "output_type": "stream",
     "text": [
      "Fail to Reject the null hypothesis\n"
     ]
    }
   ],
   "source": [
    "if f_t>c_value:\n",
    "    print(\"Reject the null hypothesis\")\n",
    "else:\n",
    "    print(\"Fail to Reject the null hypothesis\")"
   ]
  },
  {
   "cell_type": "markdown",
   "id": "40869cc7-6285-444b-8118-4e3e72beec92",
   "metadata": {},
   "source": [
    "### Q9. The following data represent the test scores of two groups of students: Group A: 80, 85, 90, 92, 87, 83; Group B: 75, 78, 82, 79, 81, 84. Conduct an F-test at the 1% significance level to determine if the variances are significantly different."
   ]
  },
  {
   "cell_type": "markdown",
   "id": "11ebe6e3-71da-46ad-97d7-36e4e1d3a7d3",
   "metadata": {},
   "source": [
    "#### Null Hypothesis (H0): The variances of the two populations are equal (σ1^2 = σ2^2).\n",
    "\n",
    "#### Alternative Hypothesis (H1): The variances of the two populations are not equal (σ1^2 ≠ σ2^2)."
   ]
  },
  {
   "cell_type": "code",
   "execution_count": 25,
   "id": "57a9a33b-47ca-493d-86e0-a86f987c5ca7",
   "metadata": {},
   "outputs": [],
   "source": [
    "Group_A=[80, 85, 90, 92, 87, 83]\n",
    "Group_B=[75, 78, 82, 79, 81, 84]"
   ]
  },
  {
   "cell_type": "code",
   "execution_count": 30,
   "id": "23ef7497-5d5c-4d9f-9032-4965d60ade24",
   "metadata": {},
   "outputs": [
    {
     "data": {
      "text/plain": [
       "1.9442622950819677"
      ]
     },
     "execution_count": 30,
     "metadata": {},
     "output_type": "execute_result"
    }
   ],
   "source": [
    "import numpy as np\n",
    "import scipy.stats as st\n",
    "f_test=np.var(Group_A)/np.var(Group_B)\n",
    "f_test"
   ]
  },
  {
   "cell_type": "code",
   "execution_count": 28,
   "id": "369b3a6d-04fd-498b-97fc-9cf33cce015b",
   "metadata": {},
   "outputs": [],
   "source": [
    "df1=len(Group_A)-1\n",
    "df2=len(Group_A)-1\n",
    "signifance_value=0.01"
   ]
  },
  {
   "cell_type": "code",
   "execution_count": 31,
   "id": "e65a0f4e-92f8-4d6a-9d3c-e9d81dd8806c",
   "metadata": {},
   "outputs": [],
   "source": [
    "critical_value=st.f.ppf(q=1-signifance_value,dfn=df1,dfd=df2)"
   ]
  },
  {
   "cell_type": "code",
   "execution_count": 32,
   "id": "c5072163-5ae0-4161-8492-3b64f66b0454",
   "metadata": {},
   "outputs": [
    {
     "name": "stdout",
     "output_type": "stream",
     "text": [
      "Fail to Reject the null hypothesis\n"
     ]
    }
   ],
   "source": [
    "if f_test>critical_value:\n",
    "    print(\"Reject the null hypothesis\")\n",
    "else:\n",
    "    print(\"Fail to Reject the null hypothesis\")"
   ]
  },
  {
   "cell_type": "code",
   "execution_count": null,
   "id": "89e6af73-aab2-4581-ad41-3bb9b18baa4c",
   "metadata": {},
   "outputs": [],
   "source": []
  },
  {
   "cell_type": "code",
   "execution_count": null,
   "id": "657d0597-69cc-49b3-9787-112b54d4d640",
   "metadata": {},
   "outputs": [],
   "source": []
  },
  {
   "cell_type": "code",
   "execution_count": null,
   "id": "6abf9b4d-8347-47a4-9b7c-e075288189d3",
   "metadata": {},
   "outputs": [],
   "source": []
  },
  {
   "cell_type": "code",
   "execution_count": null,
   "id": "6c9a82ac-534b-4163-b3bd-f42ce12877b2",
   "metadata": {},
   "outputs": [],
   "source": []
  },
  {
   "cell_type": "code",
   "execution_count": null,
   "id": "1b9b8c73-9e04-4eee-bd0a-960edf67bcbc",
   "metadata": {},
   "outputs": [],
   "source": []
  },
  {
   "cell_type": "code",
   "execution_count": null,
   "id": "b3d224cb-dd3e-48b9-9cb1-2abcd6bfa2d0",
   "metadata": {},
   "outputs": [],
   "source": []
  },
  {
   "cell_type": "code",
   "execution_count": null,
   "id": "47041977-c90b-4b11-badd-433c09049c5c",
   "metadata": {},
   "outputs": [],
   "source": []
  },
  {
   "cell_type": "code",
   "execution_count": null,
   "id": "6f8a9880-b59d-4ca6-8fe1-46476795330a",
   "metadata": {},
   "outputs": [],
   "source": []
  },
  {
   "cell_type": "code",
   "execution_count": null,
   "id": "e9e97086-8bc6-44e2-a7bd-af19563d2f5d",
   "metadata": {},
   "outputs": [],
   "source": []
  },
  {
   "cell_type": "code",
   "execution_count": null,
   "id": "6d8d3955-b590-4175-812c-4d13b3105df8",
   "metadata": {},
   "outputs": [],
   "source": []
  },
  {
   "cell_type": "code",
   "execution_count": null,
   "id": "3e1ee067-cc16-49a2-9532-61a378bc7d74",
   "metadata": {},
   "outputs": [],
   "source": []
  },
  {
   "cell_type": "code",
   "execution_count": null,
   "id": "1336c031-5cf5-4734-8175-e54c0f7b6503",
   "metadata": {},
   "outputs": [],
   "source": []
  },
  {
   "cell_type": "code",
   "execution_count": null,
   "id": "0cb3a99b-c0f0-48e5-ba90-b9489105cfec",
   "metadata": {},
   "outputs": [],
   "source": []
  },
  {
   "cell_type": "code",
   "execution_count": null,
   "id": "8442c516-3370-4c7a-bcbd-c1d229b6faf7",
   "metadata": {},
   "outputs": [],
   "source": []
  },
  {
   "cell_type": "code",
   "execution_count": null,
   "id": "100ff475-ed96-42b2-bc2a-3e47a821669d",
   "metadata": {},
   "outputs": [],
   "source": []
  },
  {
   "cell_type": "code",
   "execution_count": null,
   "id": "e4e8762a-9bb0-44fe-84b6-1d4459a39c32",
   "metadata": {},
   "outputs": [],
   "source": []
  },
  {
   "cell_type": "code",
   "execution_count": null,
   "id": "56516cf3-a47d-4a53-8b71-5722852bce64",
   "metadata": {},
   "outputs": [],
   "source": []
  },
  {
   "cell_type": "code",
   "execution_count": null,
   "id": "d7644f10-75f9-41b8-be17-ad74f8ccd0d3",
   "metadata": {},
   "outputs": [],
   "source": []
  },
  {
   "cell_type": "code",
   "execution_count": null,
   "id": "410b14ca-6015-49e8-8965-a46188f1519d",
   "metadata": {},
   "outputs": [],
   "source": []
  },
  {
   "cell_type": "code",
   "execution_count": null,
   "id": "c901f860-6cc6-48f8-aebd-573bf17b5ec4",
   "metadata": {},
   "outputs": [],
   "source": []
  },
  {
   "cell_type": "code",
   "execution_count": null,
   "id": "1d7d5d56-cc83-4e15-8c69-2c0a04fbd992",
   "metadata": {},
   "outputs": [],
   "source": []
  },
  {
   "cell_type": "code",
   "execution_count": null,
   "id": "ecbc6b31-0b2b-42c1-8923-8d2e1f28ca7c",
   "metadata": {},
   "outputs": [],
   "source": []
  },
  {
   "cell_type": "code",
   "execution_count": null,
   "id": "edb4aece-28e5-465d-814c-78fb7a55e328",
   "metadata": {},
   "outputs": [],
   "source": []
  },
  {
   "cell_type": "code",
   "execution_count": null,
   "id": "3c818f4b-c21d-45a7-aa47-18020ab61698",
   "metadata": {},
   "outputs": [],
   "source": []
  },
  {
   "cell_type": "code",
   "execution_count": null,
   "id": "ff171d4b-4734-4621-8092-ad1499cdbebf",
   "metadata": {},
   "outputs": [],
   "source": []
  },
  {
   "cell_type": "code",
   "execution_count": null,
   "id": "75c0630c-9ba9-4cc1-b581-5ec27be2efd5",
   "metadata": {},
   "outputs": [],
   "source": []
  },
  {
   "cell_type": "code",
   "execution_count": null,
   "id": "2a6c9bc2-9b2c-4d24-be92-d472f991e6ff",
   "metadata": {},
   "outputs": [],
   "source": []
  },
  {
   "cell_type": "code",
   "execution_count": null,
   "id": "accbe71a-d50c-4f4c-9f8c-fd05fe5d17d9",
   "metadata": {},
   "outputs": [],
   "source": []
  },
  {
   "cell_type": "code",
   "execution_count": null,
   "id": "494d87b1-9571-4bb2-83a1-a7a8c22b278d",
   "metadata": {},
   "outputs": [],
   "source": []
  },
  {
   "cell_type": "code",
   "execution_count": null,
   "id": "006125f4-88a5-421c-bb72-7c9964421eb7",
   "metadata": {},
   "outputs": [],
   "source": []
  },
  {
   "cell_type": "code",
   "execution_count": null,
   "id": "b122430a-65f3-455a-8862-a613f13eeef2",
   "metadata": {},
   "outputs": [],
   "source": []
  }
 ],
 "metadata": {
  "kernelspec": {
   "display_name": "Python 3 (ipykernel)",
   "language": "python",
   "name": "python3"
  },
  "language_info": {
   "codemirror_mode": {
    "name": "ipython",
    "version": 3
   },
   "file_extension": ".py",
   "mimetype": "text/x-python",
   "name": "python",
   "nbconvert_exporter": "python",
   "pygments_lexer": "ipython3",
   "version": "3.10.8"
  }
 },
 "nbformat": 4,
 "nbformat_minor": 5
}
